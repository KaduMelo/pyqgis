{
  "nbformat": 4,
  "nbformat_minor": 0,
  "metadata": {
    "colab": {
      "name": "Geopandas.ipynb",
      "provenance": [],
      "authorship_tag": "ABX9TyNwBXqn3QZfSA/lselmUmM9",
      "include_colab_link": true
    },
    "kernelspec": {
      "name": "python3",
      "display_name": "Python 3"
    }
  },
  "cells": [
    {
      "cell_type": "markdown",
      "metadata": {
        "id": "view-in-github",
        "colab_type": "text"
      },
      "source": [
        "<a href=\"https://colab.research.google.com/github/KaduMelo/pyqgis/blob/master/Geopandas.ipynb\" target=\"_parent\"><img src=\"https://colab.research.google.com/assets/colab-badge.svg\" alt=\"Open In Colab\"/></a>"
      ]
    },
    {
      "cell_type": "code",
      "metadata": {
        "id": "KA_TdYwuREFN"
      },
      "source": [
        "# !pip install --upgrade geopandas\n",
        "# # !pip install --upgrade geopandas\n",
        "\n",
        "import geopandas as gpds\n",
        "import fiona"
      ],
      "execution_count": 15,
      "outputs": []
    },
    {
      "cell_type": "code",
      "metadata": {
        "colab": {
          "base_uri": "https://localhost:8080/"
        },
        "id": "-4cBxfL7WgMe",
        "outputId": "80840580-39bf-4584-ba85-1bf4ac0e0094"
      },
      "source": [
        "from google.colab import drive\n",
        "drive.mount('/content/drive')"
      ],
      "execution_count": 16,
      "outputs": [
        {
          "output_type": "stream",
          "text": [
            "Drive already mounted at /content/drive; to attempt to forcibly remount, call drive.mount(\"/content/drive\", force_remount=True).\n"
          ],
          "name": "stdout"
        }
      ]
    },
    {
      "cell_type": "code",
      "metadata": {
        "colab": {
          "base_uri": "https://localhost:8080/"
        },
        "id": "b_hDfvaShyrl",
        "outputId": "cb0ab872-5cda-4e96-9682-6463a6f35a8b"
      },
      "source": [
        "fiona.listlayers(\"/content/drive/My Drive/bcim_2016_21_11_2018.gpkg\")"
      ],
      "execution_count": 18,
      "outputs": [
        {
          "output_type": "execute_result",
          "data": {
            "text/plain": [
              "['adm_edif_pub_militar_a',\n",
              " 'adm_edif_pub_militar_p',\n",
              " 'adm_posto_fiscal_p',\n",
              " 'eco_edif_agropec_ext_vegetal_pesca_p',\n",
              " 'eco_ext_mineral_a',\n",
              " 'eco_ext_mineral_p',\n",
              " 'enc_est_gerad_energia_eletrica_p',\n",
              " 'enc_hidreletrica_p',\n",
              " 'enc_termeletrica_p',\n",
              " 'hid_banco_areia_a',\n",
              " 'hid_barragem_l',\n",
              " 'hid_barragem_p',\n",
              " 'hid_corredeira_l',\n",
              " 'hid_corredeira_p',\n",
              " 'hid_ilha_a',\n",
              " 'hid_massa_dagua_a',\n",
              " 'hid_queda_dagua_l',\n",
              " 'hid_recife_a',\n",
              " 'hid_rocha_em_agua_a',\n",
              " 'hid_sumidouro_vertedouro_p',\n",
              " 'hid_terreno_sujeito_inundacao_a',\n",
              " 'hid_trecho_drenagem_l',\n",
              " 'hid_trecho_massa_dagua_a',\n",
              " 'lim_municipio_a',\n",
              " 'lim_outros_limites_oficiais_l',\n",
              " 'lim_pais_a',\n",
              " 'lim_terra_indigena_a',\n",
              " 'lim_terra_indigena_p',\n",
              " 'lim_unidade_conservacao_nao_snuc_a',\n",
              " 'lim_unidade_federacao_a',\n",
              " 'lim_unidade_protecao_integral_a',\n",
              " 'lim_unidade_uso_sustentavel_a',\n",
              " 'loc_aglomerado_rural_isolado_p',\n",
              " 'loc_aldeia_indigena_p',\n",
              " 'loc_area_edificada_a',\n",
              " 'loc_capital_p',\n",
              " 'loc_cidade_p',\n",
              " 'loc_vila_p',\n",
              " 'rel_curva_batimetrica_l',\n",
              " 'rel_curva_nivel_l',\n",
              " 'rel_duna_a',\n",
              " 'rel_elemento_fisiografico_natural_l',\n",
              " 'rel_elemento_fisiografico_natural_p',\n",
              " 'rel_pico_p',\n",
              " 'rel_ponto_cotado_altimetrico_p',\n",
              " 'rel_ponto_cotado_batimetrico_p',\n",
              " 'tra_eclusa_l',\n",
              " 'tra_edif_const_aeroportuaria_p',\n",
              " 'tra_edif_const_portuaria_p',\n",
              " 'tra_edif_metro_ferroviaria_p',\n",
              " 'tra_pista_ponto_pouso_p',\n",
              " 'tra_ponte_l',\n",
              " 'tra_sinalizacao_p',\n",
              " 'tra_travessia_l',\n",
              " 'tra_travessia_p',\n",
              " 'tra_trecho_duto_l',\n",
              " 'tra_trecho_ferroviario_l',\n",
              " 'tra_trecho_hidroviario_l',\n",
              " 'tra_trecho_rodoviario_l',\n",
              " 'tra_tunel_l',\n",
              " 'veg_brejo_pantano_a',\n",
              " 'veg_mangue_a',\n",
              " 'veg_veg_restinga_a']"
            ]
          },
          "metadata": {
            "tags": []
          },
          "execution_count": 18
        }
      ]
    },
    {
      "cell_type": "code",
      "metadata": {
        "id": "r4zd3WmDhomN",
        "colab": {
          "base_uri": "https://localhost:8080/",
          "height": 314
        },
        "outputId": "b47e9118-d05c-4d9b-9ed9-0e5ef6e8cbff"
      },
      "source": [
        "# temos a opçõa de usar read_sql (https://geopandas.org/reference/geopandas.read_postgis.html)\n",
        "Estados = gpds.read_file(\"/content/drive/My Drive/bcim_2016_21_11_2018.gpkg\", layer = \"lim_unidade_federacao_a\")\n",
        "Estados.head()"
      ],
      "execution_count": 21,
      "outputs": [
        {
          "output_type": "stream",
          "text": [
            "/usr/local/lib/python3.6/dist-packages/geopandas/geodataframe.py:422: RuntimeWarning: Sequential read of iterator was interrupted. Resetting iterator. This can negatively impact the performance.\n",
            "  for feature in features_lst:\n"
          ],
          "name": "stderr"
        },
        {
          "output_type": "execute_result",
          "data": {
            "text/html": [
              "<div>\n",
              "<style scoped>\n",
              "    .dataframe tbody tr th:only-of-type {\n",
              "        vertical-align: middle;\n",
              "    }\n",
              "\n",
              "    .dataframe tbody tr th {\n",
              "        vertical-align: top;\n",
              "    }\n",
              "\n",
              "    .dataframe thead th {\n",
              "        text-align: right;\n",
              "    }\n",
              "</style>\n",
              "<table border=\"1\" class=\"dataframe\">\n",
              "  <thead>\n",
              "    <tr style=\"text-align: right;\">\n",
              "      <th></th>\n",
              "      <th>nome</th>\n",
              "      <th>nomeabrev</th>\n",
              "      <th>geometriaaproximada</th>\n",
              "      <th>sigla</th>\n",
              "      <th>geocodigo</th>\n",
              "      <th>id_produtor</th>\n",
              "      <th>id_elementoprodutor</th>\n",
              "      <th>cd_insumo_orgao</th>\n",
              "      <th>nr_insumo_mes</th>\n",
              "      <th>nr_insumo_ano</th>\n",
              "      <th>tx_insumo_documento</th>\n",
              "      <th>geometry</th>\n",
              "    </tr>\n",
              "  </thead>\n",
              "  <tbody>\n",
              "    <tr>\n",
              "      <th>0</th>\n",
              "      <td>Goiás</td>\n",
              "      <td>None</td>\n",
              "      <td>Sim</td>\n",
              "      <td>GO</td>\n",
              "      <td>52</td>\n",
              "      <td>1000001</td>\n",
              "      <td>None</td>\n",
              "      <td>NaN</td>\n",
              "      <td>None</td>\n",
              "      <td>None</td>\n",
              "      <td>None</td>\n",
              "      <td>MULTIPOLYGON (((-50.15876 -12.41581, -50.15743...</td>\n",
              "    </tr>\n",
              "    <tr>\n",
              "      <th>1</th>\n",
              "      <td>Mato Grosso do Sul</td>\n",
              "      <td>None</td>\n",
              "      <td>Sim</td>\n",
              "      <td>MS</td>\n",
              "      <td>50</td>\n",
              "      <td>1000001</td>\n",
              "      <td>None</td>\n",
              "      <td>NaN</td>\n",
              "      <td>None</td>\n",
              "      <td>None</td>\n",
              "      <td>None</td>\n",
              "      <td>MULTIPOLYGON (((-56.09815 -17.17220, -56.09159...</td>\n",
              "    </tr>\n",
              "    <tr>\n",
              "      <th>2</th>\n",
              "      <td>Paraná</td>\n",
              "      <td>None</td>\n",
              "      <td>Sim</td>\n",
              "      <td>PR</td>\n",
              "      <td>41</td>\n",
              "      <td>1000001</td>\n",
              "      <td>None</td>\n",
              "      <td>NaN</td>\n",
              "      <td>None</td>\n",
              "      <td>None</td>\n",
              "      <td>None</td>\n",
              "      <td>MULTIPOLYGON (((-52.08090 -22.52893, -52.04903...</td>\n",
              "    </tr>\n",
              "    <tr>\n",
              "      <th>3</th>\n",
              "      <td>Minas Gerais</td>\n",
              "      <td>None</td>\n",
              "      <td>Sim</td>\n",
              "      <td>MG</td>\n",
              "      <td>31</td>\n",
              "      <td>1000001</td>\n",
              "      <td>None</td>\n",
              "      <td>NaN</td>\n",
              "      <td>None</td>\n",
              "      <td>None</td>\n",
              "      <td>None</td>\n",
              "      <td>MULTIPOLYGON (((-44.21152 -14.22955, -44.20750...</td>\n",
              "    </tr>\n",
              "    <tr>\n",
              "      <th>4</th>\n",
              "      <td>Sergipe</td>\n",
              "      <td>None</td>\n",
              "      <td>Sim</td>\n",
              "      <td>SE</td>\n",
              "      <td>28</td>\n",
              "      <td>1000001</td>\n",
              "      <td>None</td>\n",
              "      <td>NaN</td>\n",
              "      <td>None</td>\n",
              "      <td>None</td>\n",
              "      <td>None</td>\n",
              "      <td>MULTIPOLYGON (((-38.00366 -9.51544, -38.00052 ...</td>\n",
              "    </tr>\n",
              "  </tbody>\n",
              "</table>\n",
              "</div>"
            ],
            "text/plain": [
              "                 nome  ...                                           geometry\n",
              "0               Goiás  ...  MULTIPOLYGON (((-50.15876 -12.41581, -50.15743...\n",
              "1  Mato Grosso do Sul  ...  MULTIPOLYGON (((-56.09815 -17.17220, -56.09159...\n",
              "2              Paraná  ...  MULTIPOLYGON (((-52.08090 -22.52893, -52.04903...\n",
              "3        Minas Gerais  ...  MULTIPOLYGON (((-44.21152 -14.22955, -44.20750...\n",
              "4             Sergipe  ...  MULTIPOLYGON (((-38.00366 -9.51544, -38.00052 ...\n",
              "\n",
              "[5 rows x 12 columns]"
            ]
          },
          "metadata": {
            "tags": []
          },
          "execution_count": 21
        }
      ]
    },
    {
      "cell_type": "code",
      "metadata": {
        "colab": {
          "base_uri": "https://localhost:8080/",
          "height": 283
        },
        "id": "mfzhQN9Kj2aF",
        "outputId": "145755f7-19ad-4c35-f44d-e27f31a4596c"
      },
      "source": [
        "Estados.plot()"
      ],
      "execution_count": 23,
      "outputs": [
        {
          "output_type": "execute_result",
          "data": {
            "text/plain": [
              "<matplotlib.axes._subplots.AxesSubplot at 0x7fbe692e9f98>"
            ]
          },
          "metadata": {
            "tags": []
          },
          "execution_count": 23
        },
        {
          "output_type": "display_data",
          "data": {
            "image/png": "[encoded data removed]",
            "text/plain": [
              "<Figure size 432x288 with 1 Axes>"
            ]
          },
          "metadata": {
            "tags": [],
            "needs_background": "light"
          }
        }
      ]
    },
    {
      "cell_type": "code",
      "metadata": {
        "colab": {
          "base_uri": "https://localhost:8080/",
          "height": 283
        },
        "id": "NdROzZVAkVg5",
        "outputId": "32a7ca2a-c65a-4370-fb69-c084cd4f6ada"
      },
      "source": [
        "Estados.plot(column = \"sigla\")"
      ],
      "execution_count": 25,
      "outputs": [
        {
          "output_type": "execute_result",
          "data": {
            "text/plain": [
              "<matplotlib.axes._subplots.AxesSubplot at 0x7fbe691629e8>"
            ]
          },
          "metadata": {
            "tags": []
          },
          "execution_count": 25
        },
        {
          "output_type": "display_data",
          "data": {
            "image/png": "[encoded data removed]",
            "text/plain": [
              "<Figure size 432x288 with 1 Axes>"
            ]
          },
          "metadata": {
            "tags": [],
            "needs_background": "light"
          }
        }
      ]
    },
    {
      "cell_type": "code",
      "metadata": {
        "id": "TH9ZWGVUke-a"
      },
      "source": [
        ""
      ],
      "execution_count": null,
      "outputs": []
    }
  ]
}